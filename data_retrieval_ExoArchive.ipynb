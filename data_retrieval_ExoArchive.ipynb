{
 "cells": [
  {
   "cell_type": "markdown",
   "metadata": {},
   "source": [
    "### Purpose of this script\n",
    "\n",
    "This code generates a catalog of planets based on the NASA Exoplanet Archive \"Planetary Systems (Alpha release)\" database. The users can download this database from the following website: https://exoplanetarchive.ipac.caltech.edu/cgi-bin/TblView/nph-tblView?app=ExoTbls&config=PS. \n",
    "\n",
    "After importing the database, they can specify their parameters interest (e.g. Rp, Mp, etc.) in the \"interesting_cols\" array. For each of these parameters, the script will consider all the reported values in the Planetary Systems catalog and will choose the one with the smallest error. It will also add an additional column providing the bibliographical reference for such value. The rest of the columns in the Planetary Systems database will be kept. "
   ]
  },
  {
   "cell_type": "markdown",
   "metadata": {},
   "source": [
    "To create the final table with one row per planet and the best measures, we will follow these steps:\n",
    "1. Drop duplicates on \"pl_name\" to get the proper shape of the final table, `df_final`\n",
    "1. For all planets with a default flag, use these parameter values\n",
    "1. For the parameters of interest, overwrite the defaults (either coming from drop duplicates or from default flag) with the available values with smaller error"
   ]
  },
  {
   "cell_type": "markdown",
   "metadata": {},
   "source": [
    "Date: 15 May 2020"
   ]
  },
  {
   "cell_type": "code",
   "execution_count": 27,
   "metadata": {},
   "outputs": [],
   "source": [
    "import numpy as np\n",
    "import pandas as pd"
   ]
  },
  {
   "cell_type": "code",
   "execution_count": 28,
   "metadata": {},
   "outputs": [],
   "source": [
    "def get_min_value(col_name, df):\n",
    "    ref_colname = \"{}_refname\".format(col_name.split(\"_\")[0])\n",
    "    cols = [\"pl_name\"] + [tmp.format(col_name) for tmp in (\"{}\", \"{}err1\", \"{}err2\")] + [ref_colname]\n",
    "    df_aux = df[cols].copy()\n",
    "    err_col = \"{}_err\".format(col_name)\n",
    "    df_aux = df_aux.assign(**{err_col: np.sqrt(df_aux[cols[2]]**2 + df_aux[cols[3]]**2)})\n",
    "    df_aux = df_aux.rename(columns={ref_colname: \"{}_ref\".format(col_name)})\n",
    "    idxs = df_aux.groupby(\"pl_name\")[err_col].idxmin().dropna()\n",
    "    df_aux = df_aux.loc[idxs].drop(err_col, axis=1)\n",
    "    return df_aux\n",
    "\n",
    "def update_column_with_min_err(col_name, df_orig, df_fin):\n",
    "    df_aux = get_min_value(col_name, df_orig).set_index(\"pl_name\")\n",
    "    *cols, ref_col = df_aux.columns\n",
    "    df_fin.loc[df_aux.index, cols] = df_aux[cols]\n",
    "    df_fin[ref_col] = \"\"\n",
    "    df_fin.loc[df_aux.index, ref_col] = df_aux[ref_col]\n",
    "    return df_fin"
   ]
  },
  {
   "cell_type": "markdown",
   "metadata": {},
   "source": [
    "# 1. User Input"
   ]
  },
  {
   "cell_type": "markdown",
   "metadata": {},
   "source": [
    "## 1a. Load the NASA Exoplanet Archive Catalog"
   ]
  },
  {
   "cell_type": "markdown",
   "metadata": {},
   "source": [
    "Download the Planetary Systems (alpha release) from the Exoplanet Archive dataset (https://exoplanetarchive.ipac.caltech.edu/cgi-bin/TblView/nph-tblView?app=ExoTbls&config=PS)."
   ]
  },
  {
   "cell_type": "code",
   "execution_count": 30,
   "metadata": {},
   "outputs": [
    {
     "data": {
      "text/plain": [
       "4154"
      ]
     },
     "execution_count": 30,
     "metadata": {},
     "output_type": "execute_result"
    }
   ],
   "source": [
    "df_original = pd.read_csv(\"PS_2020.05.15_03.52.12.csv\", comment=\"#\")\n",
    "len(np.unique(df_original['pl_name']))"
   ]
  },
  {
   "cell_type": "markdown",
   "metadata": {},
   "source": [
    "## 1b. [Optional] Select Parameters of Interest "
   ]
  },
  {
   "cell_type": "markdown",
   "metadata": {},
   "source": [
    "Choose your parameters of interest (here \"pl_rade\" and \"st_rad\"). For each of these parameters, the script will choose the value that has the smallest error and will create a reference column showing the paper where it comes from. You may also decide to skip this step, if you want to download the NASA default parameters.\n",
    "\n",
    "Note: The names of the chosen parameters must coincide with the column names here (https://exoplanetarchive.ipac.caltech.edu/docs/API_PS_columns.html)\n",
    "\n"
   ]
  },
  {
   "cell_type": "code",
   "execution_count": 4,
   "metadata": {},
   "outputs": [],
   "source": [
    "interesting_cols = [\"pl_rade\", \"st_rad\"]  #comment this line if no parameters of interest"
   ]
  },
  {
   "cell_type": "markdown",
   "metadata": {},
   "source": [
    "# 2. [Optional] Do you want a Planetary Radius Mask? "
   ]
  },
  {
   "cell_type": "markdown",
   "metadata": {},
   "source": [
    "Do you want to have a maximum value for the planetary radius? (i.e. to do studies focused on a specific type of planet, such as sub-Neptunes or super-Earths?))\n",
    "* If not, do not execute cells in Section 2 \n",
    "* If you want to impose a cut at XX, then prad_mask = XX. "
   ]
  },
  {
   "cell_type": "code",
   "execution_count": null,
   "metadata": {},
   "outputs": [],
   "source": [
    "unit_radius = 'pl_rade' #Select the unit of the planetary radius (either 'pl_rade' or 'pl_radj')\n",
    "prad_mask = 4 #fill XX with your cut (in the units chosen above)"
   ]
  },
  {
   "cell_type": "code",
   "execution_count": null,
   "metadata": {},
   "outputs": [],
   "source": [
    "min_radi_per_pl = get_min_value(unit_radius, df_original).set_index(\"pl_name\")\n",
    "min_radi_per_pl"
   ]
  },
  {
   "cell_type": "code",
   "execution_count": null,
   "metadata": {},
   "outputs": [],
   "source": [
    "radi_mask = min_radi_per_pl.pl_rade <= prad_mask #we're not going to put a cut in planet radius\n",
    "planets_to_consider = min_radi_per_pl[radi_mask].index\n",
    "len(planets_to_consider)"
   ]
  },
  {
   "cell_type": "markdown",
   "metadata": {},
   "source": [
    "\"Min_error\" approach to choosing values: : consider the planet radi as the one with less error, cut using this value"
   ]
  },
  {
   "cell_type": "code",
   "execution_count": null,
   "metadata": {},
   "outputs": [],
   "source": [
    "min_radi_per_pl = get_min_value(\"pl_rade\", df_original).set_index(\"pl_name\")"
   ]
  },
  {
   "cell_type": "code",
   "execution_count": null,
   "metadata": {},
   "outputs": [],
   "source": [
    "planets_to_consider = min_radi_per_pl[radi_mask].index\n",
    "planets_to_consider"
   ]
  },
  {
   "cell_type": "code",
   "execution_count": null,
   "metadata": {},
   "outputs": [],
   "source": [
    "planet_mask = df_original.pl_name.isin(planets_to_consider)\n",
    "planet_mask.sum()  # we're going to use these rows"
   ]
  },
  {
   "cell_type": "code",
   "execution_count": null,
   "metadata": {},
   "outputs": [],
   "source": [
    "df_original = df_original[planet_mask]\n",
    "df_original.shape"
   ]
  },
  {
   "cell_type": "markdown",
   "metadata": {},
   "source": [
    "# 3. Confirm that the Catalog Entries are Unique"
   ]
  },
  {
   "cell_type": "code",
   "execution_count": 31,
   "metadata": {},
   "outputs": [
    {
     "name": "stdout",
     "output_type": "stream",
     "text": [
      "4154\n",
      "4154\n"
     ]
    }
   ],
   "source": [
    "print(np.unique(df_original.pl_name).size)\n",
    "print(df_original.default_flag.sum()) #equivalent to checking which ones have default_flag = 1"
   ]
  },
  {
   "cell_type": "code",
   "execution_count": 32,
   "metadata": {},
   "outputs": [
    {
     "data": {
      "text/plain": [
       "(4154, 294)"
      ]
     },
     "execution_count": 32,
     "metadata": {},
     "output_type": "execute_result"
    }
   ],
   "source": [
    "df_final = df_original.copy(deep=True)\n",
    "df_final = df_final.drop_duplicates(\"pl_name\").set_index(\"pl_name\").drop(\"default_flag\", axis=1)\n",
    "df_final.shape"
   ]
  },
  {
   "cell_type": "code",
   "execution_count": 33,
   "metadata": {},
   "outputs": [
    {
     "data": {
      "text/plain": [
       "(4154, 294)"
      ]
     },
     "execution_count": 33,
     "metadata": {},
     "output_type": "execute_result"
    }
   ],
   "source": [
    "df_aux = df_original[df_original.default_flag == 1].drop(\"default_flag\", axis=1).set_index(\"pl_name\")\n",
    "df_final.loc[df_aux.index] = df_aux\n",
    "df_final[\"pl_masse\"] = np.nan  \n",
    "df_final.shape"
   ]
  },
  {
   "cell_type": "markdown",
   "metadata": {},
   "source": [
    "# 4. [Optional]: Retrieve Parameters of Interest with Min_error Approach"
   ]
  },
  {
   "cell_type": "code",
   "execution_count": 34,
   "metadata": {},
   "outputs": [
    {
     "data": {
      "text/plain": [
       "(4154, 296)"
      ]
     },
     "execution_count": 34,
     "metadata": {},
     "output_type": "execute_result"
    }
   ],
   "source": [
    "for col in interesting_cols:\n",
    "    df_final = update_column_with_min_err(col, df_original, df_final)\n",
    "    \n",
    "df_final.shape"
   ]
  },
  {
   "cell_type": "markdown",
   "metadata": {},
   "source": [
    "# 5. [Optional]: Do you want a Mass Measurement, or M*sin(i)? "
   ]
  },
  {
   "cell_type": "markdown",
   "metadata": {},
   "source": [
    "Execute the cells below if you require actual mass measurements, rather than msin(i) values."
   ]
  },
  {
   "cell_type": "code",
   "execution_count": 35,
   "metadata": {},
   "outputs": [
    {
     "data": {
      "text/plain": [
       "(4154, 297)"
      ]
     },
     "execution_count": 35,
     "metadata": {},
     "output_type": "execute_result"
    }
   ],
   "source": [
    "# this should select masses only from the correct subset with the radii data having already been selected from the whole table\n",
    "mass_mask = df_original.pl_bmassprov == \"Mass\"\n",
    "df_final = update_column_with_min_err(\"pl_masse\", df_original[mass_mask], df_final)\n",
    "df_final.shape  # 3 extra columns with specific referencesk"
   ]
  },
  {
   "cell_type": "code",
   "execution_count": 41,
   "metadata": {},
   "outputs": [
    {
     "data": {
      "text/plain": [
       "pl_name\n",
       "11 Com b      Msini\n",
       "11 UMi b      Msini\n",
       "14 And b      Msini\n",
       "14 Her b      Msini\n",
       "16 Cyg B b    Msini\n",
       "              ...  \n",
       "tau Gem b     Msini\n",
       "ups And b     Msini\n",
       "ups And c     Msini\n",
       "ups And d     Msini\n",
       "xi Aql b      Msini\n",
       "Name: pl_bmassprov, Length: 4154, dtype: object"
      ]
     },
     "execution_count": 41,
     "metadata": {},
     "output_type": "execute_result"
    }
   ],
   "source": [
    "df_final['pl_bmassprov']"
   ]
  },
  {
   "cell_type": "code",
   "execution_count": 42,
   "metadata": {},
   "outputs": [
    {
     "data": {
      "text/plain": [
       "(992, 296)"
      ]
     },
     "execution_count": 42,
     "metadata": {},
     "output_type": "execute_result"
    }
   ],
   "source": [
    "df_final = df_final.drop(\"pl_bmassprov\", axis=1).dropna(subset=[\"pl_masse\"])\n",
    "df_final.shape"
   ]
  },
  {
   "cell_type": "markdown",
   "metadata": {},
   "source": [
    "# 5. Create your final dataset"
   ]
  },
  {
   "cell_type": "code",
   "execution_count": 43,
   "metadata": {},
   "outputs": [
    {
     "data": {
      "text/plain": [
       "992"
      ]
     },
     "execution_count": 43,
     "metadata": {},
     "output_type": "execute_result"
    }
   ],
   "source": [
    "np.unique(df_original[mass_mask].dropna(subset=[\"pl_masse\", \"pl_masseerr1\", \"pl_masseerr2\"]).pl_name).size"
   ]
  },
  {
   "cell_type": "code",
   "execution_count": 44,
   "metadata": {},
   "outputs": [
    {
     "data": {
      "text/plain": [
       "1070"
      ]
     },
     "execution_count": 44,
     "metadata": {},
     "output_type": "execute_result"
    }
   ],
   "source": [
    "np.unique(df_original[mass_mask].pl_name).size"
   ]
  },
  {
   "cell_type": "code",
   "execution_count": 45,
   "metadata": {},
   "outputs": [
    {
     "data": {
      "text/plain": [
       "(992, 296)"
      ]
     },
     "execution_count": 45,
     "metadata": {},
     "output_type": "execute_result"
    }
   ],
   "source": [
    "exo_archive = df_final.copy(deep=True) #final dataset\n",
    "exo_archive.shape"
   ]
  },
  {
   "cell_type": "code",
   "execution_count": 46,
   "metadata": {},
   "outputs": [],
   "source": [
    "exo_archive.to_csv('final_catalog_planets.csv')"
   ]
  },
  {
   "cell_type": "code",
   "execution_count": 47,
   "metadata": {},
   "outputs": [
    {
     "data": {
      "text/plain": [
       "992"
      ]
     },
     "execution_count": 47,
     "metadata": {},
     "output_type": "execute_result"
    }
   ],
   "source": [
    "np.unique(exo_archive.index).size"
   ]
  },
  {
   "cell_type": "code",
   "execution_count": null,
   "metadata": {},
   "outputs": [],
   "source": []
  }
 ],
 "metadata": {
  "kernelspec": {
   "display_name": "Python 3",
   "language": "python",
   "name": "python3"
  },
  "language_info": {
   "codemirror_mode": {
    "name": "ipython",
    "version": 3
   },
   "file_extension": ".py",
   "mimetype": "text/x-python",
   "name": "python",
   "nbconvert_exporter": "python",
   "pygments_lexer": "ipython3",
   "version": "3.7.7"
  }
 },
 "nbformat": 4,
 "nbformat_minor": 2
}
