{
 "cells": [
  {
   "cell_type": "markdown",
   "metadata": {},
   "source": [
    "# Quickstart Guide"
   ]
  },
  {
   "cell_type": "code",
   "execution_count": 1,
   "metadata": {},
   "outputs": [],
   "source": [
    "import numpy as np\n",
    "import pandas as pd\n",
    "import sherlock"
   ]
  },
  {
   "cell_type": "markdown",
   "metadata": {},
   "source": [
    "## Read a local csv file\n",
    "The function `get_exoarchive` allows to download a new version of the database or to read a local file after a manual download. For convenience, `sherlock` includes a csv file downloaded from the NASA Exoplanet Archive; it is loaded if no filename is passed when calling `get_exoarchive`:"
   ]
  },
  {
   "cell_type": "code",
   "execution_count": 2,
   "metadata": {
    "scrolled": false
   },
   "outputs": [
    {
     "name": "stderr",
     "output_type": "stream",
     "text": [
      "/home/oriol/venvs/exoplanet/lib/python3.6/site-packages/IPython/core/interactiveshell.py:3331: DtypeWarning: Columns (5) have mixed types.Specify dtype option on import or set low_memory=False.\n",
      "  exec(code_obj, self.user_global_ns, self.user_ns)\n"
     ]
    },
    {
     "data": {
      "text/html": [
       "<div>\n",
       "<style scoped>\n",
       "    .dataframe tbody tr th:only-of-type {\n",
       "        vertical-align: middle;\n",
       "    }\n",
       "\n",
       "    .dataframe tbody tr th {\n",
       "        vertical-align: top;\n",
       "    }\n",
       "\n",
       "    .dataframe thead th {\n",
       "        text-align: right;\n",
       "    }\n",
       "</style>\n",
       "<table border=\"1\" class=\"dataframe\">\n",
       "  <thead>\n",
       "    <tr style=\"text-align: right;\">\n",
       "      <th></th>\n",
       "      <th>rowid</th>\n",
       "      <th>pl_name</th>\n",
       "      <th>hostname</th>\n",
       "      <th>pl_letter</th>\n",
       "      <th>hd_name</th>\n",
       "      <th>hip_name</th>\n",
       "      <th>tic_id</th>\n",
       "      <th>default_flag</th>\n",
       "      <th>sy_snum</th>\n",
       "      <th>sy_pnum</th>\n",
       "      <th>...</th>\n",
       "      <th>sy_kepmagerr1</th>\n",
       "      <th>sy_kepmagerr2</th>\n",
       "      <th>rowupdate</th>\n",
       "      <th>pl_pubdate</th>\n",
       "      <th>releasedate</th>\n",
       "      <th>pl_nnotes</th>\n",
       "      <th>st_nphot</th>\n",
       "      <th>st_nrvc</th>\n",
       "      <th>st_ntranspec</th>\n",
       "      <th>st_nspec</th>\n",
       "    </tr>\n",
       "  </thead>\n",
       "  <tbody>\n",
       "    <tr>\n",
       "      <th>0</th>\n",
       "      <td>1</td>\n",
       "      <td>11 Com b</td>\n",
       "      <td>11 Com</td>\n",
       "      <td>b</td>\n",
       "      <td>NaN</td>\n",
       "      <td>HIP 60202 b</td>\n",
       "      <td>TIC 72437047 b</td>\n",
       "      <td>1</td>\n",
       "      <td>2</td>\n",
       "      <td>1</td>\n",
       "      <td>...</td>\n",
       "      <td>NaN</td>\n",
       "      <td>NaN</td>\n",
       "      <td>2014-05-14</td>\n",
       "      <td>2008-01</td>\n",
       "      <td>2014-05-14</td>\n",
       "      <td>2.0</td>\n",
       "      <td>0.0</td>\n",
       "      <td>2.0</td>\n",
       "      <td>0.0</td>\n",
       "      <td>0.0</td>\n",
       "    </tr>\n",
       "    <tr>\n",
       "      <th>1</th>\n",
       "      <td>2</td>\n",
       "      <td>11 Com b</td>\n",
       "      <td>11 Com</td>\n",
       "      <td>b</td>\n",
       "      <td>NaN</td>\n",
       "      <td>HIP 60202 b</td>\n",
       "      <td>TIC 72437047 b</td>\n",
       "      <td>0</td>\n",
       "      <td>2</td>\n",
       "      <td>1</td>\n",
       "      <td>...</td>\n",
       "      <td>NaN</td>\n",
       "      <td>NaN</td>\n",
       "      <td>2014-07-23</td>\n",
       "      <td>2011-08</td>\n",
       "      <td>2014-07-23</td>\n",
       "      <td>2.0</td>\n",
       "      <td>0.0</td>\n",
       "      <td>2.0</td>\n",
       "      <td>0.0</td>\n",
       "      <td>0.0</td>\n",
       "    </tr>\n",
       "    <tr>\n",
       "      <th>2</th>\n",
       "      <td>3</td>\n",
       "      <td>11 UMi b</td>\n",
       "      <td>11 UMi</td>\n",
       "      <td>b</td>\n",
       "      <td>NaN</td>\n",
       "      <td>HIP 74793 b</td>\n",
       "      <td>TIC 230061010 b</td>\n",
       "      <td>1</td>\n",
       "      <td>1</td>\n",
       "      <td>1</td>\n",
       "      <td>...</td>\n",
       "      <td>NaN</td>\n",
       "      <td>NaN</td>\n",
       "      <td>2018-09-04</td>\n",
       "      <td>2017-03</td>\n",
       "      <td>2018-09-04</td>\n",
       "      <td>0.0</td>\n",
       "      <td>0.0</td>\n",
       "      <td>1.0</td>\n",
       "      <td>0.0</td>\n",
       "      <td>0.0</td>\n",
       "    </tr>\n",
       "    <tr>\n",
       "      <th>3</th>\n",
       "      <td>4</td>\n",
       "      <td>11 UMi b</td>\n",
       "      <td>11 UMi</td>\n",
       "      <td>b</td>\n",
       "      <td>NaN</td>\n",
       "      <td>HIP 74793 b</td>\n",
       "      <td>TIC 230061010 b</td>\n",
       "      <td>0</td>\n",
       "      <td>1</td>\n",
       "      <td>1</td>\n",
       "      <td>...</td>\n",
       "      <td>NaN</td>\n",
       "      <td>NaN</td>\n",
       "      <td>2018-04-25</td>\n",
       "      <td>2009-10</td>\n",
       "      <td>2018-04-25</td>\n",
       "      <td>0.0</td>\n",
       "      <td>0.0</td>\n",
       "      <td>1.0</td>\n",
       "      <td>0.0</td>\n",
       "      <td>0.0</td>\n",
       "    </tr>\n",
       "    <tr>\n",
       "      <th>4</th>\n",
       "      <td>5</td>\n",
       "      <td>11 UMi b</td>\n",
       "      <td>11 UMi</td>\n",
       "      <td>b</td>\n",
       "      <td>NaN</td>\n",
       "      <td>HIP 74793 b</td>\n",
       "      <td>TIC 230061010 b</td>\n",
       "      <td>0</td>\n",
       "      <td>1</td>\n",
       "      <td>1</td>\n",
       "      <td>...</td>\n",
       "      <td>NaN</td>\n",
       "      <td>NaN</td>\n",
       "      <td>2018-04-25</td>\n",
       "      <td>2011-08</td>\n",
       "      <td>2018-04-25</td>\n",
       "      <td>0.0</td>\n",
       "      <td>0.0</td>\n",
       "      <td>1.0</td>\n",
       "      <td>0.0</td>\n",
       "      <td>0.0</td>\n",
       "    </tr>\n",
       "  </tbody>\n",
       "</table>\n",
       "<p>5 rows × 296 columns</p>\n",
       "</div>"
      ],
      "text/plain": [
       "   rowid   pl_name hostname pl_letter  hd_name     hip_name           tic_id  \\\n",
       "0      1  11 Com b   11 Com         b      NaN  HIP 60202 b   TIC 72437047 b   \n",
       "1      2  11 Com b   11 Com         b      NaN  HIP 60202 b   TIC 72437047 b   \n",
       "2      3  11 UMi b   11 UMi         b      NaN  HIP 74793 b  TIC 230061010 b   \n",
       "3      4  11 UMi b   11 UMi         b      NaN  HIP 74793 b  TIC 230061010 b   \n",
       "4      5  11 UMi b   11 UMi         b      NaN  HIP 74793 b  TIC 230061010 b   \n",
       "\n",
       "   default_flag  sy_snum  sy_pnum  ...  sy_kepmagerr1 sy_kepmagerr2  \\\n",
       "0             1        2        1  ...            NaN           NaN   \n",
       "1             0        2        1  ...            NaN           NaN   \n",
       "2             1        1        1  ...            NaN           NaN   \n",
       "3             0        1        1  ...            NaN           NaN   \n",
       "4             0        1        1  ...            NaN           NaN   \n",
       "\n",
       "    rowupdate pl_pubdate releasedate pl_nnotes st_nphot st_nrvc st_ntranspec  \\\n",
       "0  2014-05-14    2008-01  2014-05-14       2.0      0.0     2.0          0.0   \n",
       "1  2014-07-23    2011-08  2014-07-23       2.0      0.0     2.0          0.0   \n",
       "2  2018-09-04    2017-03  2018-09-04       0.0      0.0     1.0          0.0   \n",
       "3  2018-04-25    2009-10  2018-04-25       0.0      0.0     1.0          0.0   \n",
       "4  2018-04-25    2011-08  2018-04-25       0.0      0.0     1.0          0.0   \n",
       "\n",
       "   st_nspec  \n",
       "0       0.0  \n",
       "1       0.0  \n",
       "2       0.0  \n",
       "3       0.0  \n",
       "4       0.0  \n",
       "\n",
       "[5 rows x 296 columns]"
      ]
     },
     "execution_count": 2,
     "metadata": {},
     "output_type": "execute_result"
    }
   ],
   "source": [
    "complete_catalog = sherlock.get_exoarchive(local=True)\n",
    "complete_catalog.head()"
   ]
  },
  {
   "cell_type": "markdown",
   "metadata": {},
   "source": [
    "## Selecting a row per planet\n",
    "The alpha release of the archive includes a `default_flag` column, which helps select a single row per planet, however, this may not always be the indicated. We may be interested in selecting a subset of values based on the lowest reported error, and also, we can use different references for a single object, using the planetary radius from a first reference and the planetary mass from a second reference."
   ]
  },
  {
   "cell_type": "markdown",
   "metadata": {},
   "source": [
    "### `get_exoarchive`\n",
    "We can get the catalog with `default_flag == 1` with the same `get_exoplanet` command:"
   ]
  },
  {
   "cell_type": "code",
   "execution_count": 3,
   "metadata": {},
   "outputs": [
    {
     "name": "stderr",
     "output_type": "stream",
     "text": [
      "/home/oriol/venvs/exoplanet/lib/python3.6/site-packages/IPython/core/interactiveshell.py:3331: DtypeWarning: Columns (5) have mixed types.Specify dtype option on import or set low_memory=False.\n",
      "  exec(code_obj, self.user_global_ns, self.user_ns)\n"
     ]
    },
    {
     "data": {
      "text/html": [
       "<div>\n",
       "<style scoped>\n",
       "    .dataframe tbody tr th:only-of-type {\n",
       "        vertical-align: middle;\n",
       "    }\n",
       "\n",
       "    .dataframe tbody tr th {\n",
       "        vertical-align: top;\n",
       "    }\n",
       "\n",
       "    .dataframe thead th {\n",
       "        text-align: right;\n",
       "    }\n",
       "</style>\n",
       "<table border=\"1\" class=\"dataframe\">\n",
       "  <thead>\n",
       "    <tr style=\"text-align: right;\">\n",
       "      <th></th>\n",
       "      <th>rowid</th>\n",
       "      <th>pl_name</th>\n",
       "      <th>hostname</th>\n",
       "      <th>pl_letter</th>\n",
       "      <th>hd_name</th>\n",
       "      <th>hip_name</th>\n",
       "      <th>tic_id</th>\n",
       "      <th>default_flag</th>\n",
       "      <th>sy_snum</th>\n",
       "      <th>sy_pnum</th>\n",
       "      <th>...</th>\n",
       "      <th>sy_kepmagerr1</th>\n",
       "      <th>sy_kepmagerr2</th>\n",
       "      <th>rowupdate</th>\n",
       "      <th>pl_pubdate</th>\n",
       "      <th>releasedate</th>\n",
       "      <th>pl_nnotes</th>\n",
       "      <th>st_nphot</th>\n",
       "      <th>st_nrvc</th>\n",
       "      <th>st_ntranspec</th>\n",
       "      <th>st_nspec</th>\n",
       "    </tr>\n",
       "  </thead>\n",
       "  <tbody>\n",
       "    <tr>\n",
       "      <th>0</th>\n",
       "      <td>1</td>\n",
       "      <td>11 Com b</td>\n",
       "      <td>11 Com</td>\n",
       "      <td>b</td>\n",
       "      <td>NaN</td>\n",
       "      <td>HIP 60202 b</td>\n",
       "      <td>TIC 72437047 b</td>\n",
       "      <td>1</td>\n",
       "      <td>2</td>\n",
       "      <td>1</td>\n",
       "      <td>...</td>\n",
       "      <td>NaN</td>\n",
       "      <td>NaN</td>\n",
       "      <td>2014-05-14</td>\n",
       "      <td>2008-01</td>\n",
       "      <td>2014-05-14</td>\n",
       "      <td>2.0</td>\n",
       "      <td>0.0</td>\n",
       "      <td>2.0</td>\n",
       "      <td>0.0</td>\n",
       "      <td>0.0</td>\n",
       "    </tr>\n",
       "    <tr>\n",
       "      <th>2</th>\n",
       "      <td>3</td>\n",
       "      <td>11 UMi b</td>\n",
       "      <td>11 UMi</td>\n",
       "      <td>b</td>\n",
       "      <td>NaN</td>\n",
       "      <td>HIP 74793 b</td>\n",
       "      <td>TIC 230061010 b</td>\n",
       "      <td>1</td>\n",
       "      <td>1</td>\n",
       "      <td>1</td>\n",
       "      <td>...</td>\n",
       "      <td>NaN</td>\n",
       "      <td>NaN</td>\n",
       "      <td>2018-09-04</td>\n",
       "      <td>2017-03</td>\n",
       "      <td>2018-09-04</td>\n",
       "      <td>0.0</td>\n",
       "      <td>0.0</td>\n",
       "      <td>1.0</td>\n",
       "      <td>0.0</td>\n",
       "      <td>0.0</td>\n",
       "    </tr>\n",
       "    <tr>\n",
       "      <th>5</th>\n",
       "      <td>6</td>\n",
       "      <td>14 And b</td>\n",
       "      <td>14 And</td>\n",
       "      <td>b</td>\n",
       "      <td>NaN</td>\n",
       "      <td>HIP 116076 b</td>\n",
       "      <td>TIC 333225860 b</td>\n",
       "      <td>1</td>\n",
       "      <td>1</td>\n",
       "      <td>1</td>\n",
       "      <td>...</td>\n",
       "      <td>NaN</td>\n",
       "      <td>NaN</td>\n",
       "      <td>2014-05-14</td>\n",
       "      <td>2008-12</td>\n",
       "      <td>2014-05-14</td>\n",
       "      <td>0.0</td>\n",
       "      <td>0.0</td>\n",
       "      <td>1.0</td>\n",
       "      <td>0.0</td>\n",
       "      <td>0.0</td>\n",
       "    </tr>\n",
       "    <tr>\n",
       "      <th>12</th>\n",
       "      <td>13</td>\n",
       "      <td>14 Her b</td>\n",
       "      <td>14 Her</td>\n",
       "      <td>b</td>\n",
       "      <td>NaN</td>\n",
       "      <td>HIP 79248 b</td>\n",
       "      <td>TIC 219483057 b</td>\n",
       "      <td>1</td>\n",
       "      <td>1</td>\n",
       "      <td>1</td>\n",
       "      <td>...</td>\n",
       "      <td>NaN</td>\n",
       "      <td>NaN</td>\n",
       "      <td>2018-09-04</td>\n",
       "      <td>2017-03</td>\n",
       "      <td>2018-09-04</td>\n",
       "      <td>0.0</td>\n",
       "      <td>0.0</td>\n",
       "      <td>4.0</td>\n",
       "      <td>0.0</td>\n",
       "      <td>1.0</td>\n",
       "    </tr>\n",
       "    <tr>\n",
       "      <th>14</th>\n",
       "      <td>15</td>\n",
       "      <td>16 Cyg B b</td>\n",
       "      <td>16 Cyg B</td>\n",
       "      <td>b</td>\n",
       "      <td>NaN</td>\n",
       "      <td>HIP 96901 b</td>\n",
       "      <td>TIC 27533327 b</td>\n",
       "      <td>1</td>\n",
       "      <td>3</td>\n",
       "      <td>1</td>\n",
       "      <td>...</td>\n",
       "      <td>NaN</td>\n",
       "      <td>NaN</td>\n",
       "      <td>2018-09-04</td>\n",
       "      <td>2017-03</td>\n",
       "      <td>2018-09-04</td>\n",
       "      <td>5.0</td>\n",
       "      <td>0.0</td>\n",
       "      <td>4.0</td>\n",
       "      <td>0.0</td>\n",
       "      <td>3.0</td>\n",
       "    </tr>\n",
       "  </tbody>\n",
       "</table>\n",
       "<p>5 rows × 296 columns</p>\n",
       "</div>"
      ],
      "text/plain": [
       "    rowid     pl_name  hostname pl_letter  hd_name      hip_name  \\\n",
       "0       1    11 Com b    11 Com         b      NaN   HIP 60202 b   \n",
       "2       3    11 UMi b    11 UMi         b      NaN   HIP 74793 b   \n",
       "5       6    14 And b    14 And         b      NaN  HIP 116076 b   \n",
       "12     13    14 Her b    14 Her         b      NaN   HIP 79248 b   \n",
       "14     15  16 Cyg B b  16 Cyg B         b      NaN   HIP 96901 b   \n",
       "\n",
       "             tic_id  default_flag  sy_snum  sy_pnum  ...  sy_kepmagerr1  \\\n",
       "0    TIC 72437047 b             1        2        1  ...            NaN   \n",
       "2   TIC 230061010 b             1        1        1  ...            NaN   \n",
       "5   TIC 333225860 b             1        1        1  ...            NaN   \n",
       "12  TIC 219483057 b             1        1        1  ...            NaN   \n",
       "14   TIC 27533327 b             1        3        1  ...            NaN   \n",
       "\n",
       "   sy_kepmagerr2   rowupdate pl_pubdate releasedate pl_nnotes st_nphot  \\\n",
       "0            NaN  2014-05-14    2008-01  2014-05-14       2.0      0.0   \n",
       "2            NaN  2018-09-04    2017-03  2018-09-04       0.0      0.0   \n",
       "5            NaN  2014-05-14    2008-12  2014-05-14       0.0      0.0   \n",
       "12           NaN  2018-09-04    2017-03  2018-09-04       0.0      0.0   \n",
       "14           NaN  2018-09-04    2017-03  2018-09-04       5.0      0.0   \n",
       "\n",
       "   st_nrvc st_ntranspec  st_nspec  \n",
       "0      2.0          0.0       0.0  \n",
       "2      1.0          0.0       0.0  \n",
       "5      1.0          0.0       0.0  \n",
       "12     4.0          0.0       1.0  \n",
       "14     4.0          0.0       3.0  \n",
       "\n",
       "[5 rows x 296 columns]"
      ]
     },
     "execution_count": 3,
     "metadata": {},
     "output_type": "execute_result"
    }
   ],
   "source": [
    "catalog = sherlock.get_exoarchive(local=True, default_pars=True)\n",
    "catalog.head()"
   ]
  },
  {
   "cell_type": "markdown",
   "metadata": {},
   "source": [
    "It can be seen that unlike the first `complete_catalog` DataFrame, `catalog` does not have multiple rows for a single planet. "
   ]
  },
  {
   "cell_type": "markdown",
   "metadata": {},
   "source": [
    "### `get_from_exoarchive`\n",
    "To select the data included in the DataFrame with more detail, we can use `get_from_exoarchive`. `get_from_exoarchive` selects the values with lowest reported error for a user-defined subset of columns and the value from the default parameter set for all other columns. Moreover, it also integrates querying into the workflow.\n",
    "\n",
    "One simple example would be including the measures with lowest reported error for `pl_rade` and `st_rad`."
   ]
  },
  {
   "cell_type": "code",
   "execution_count": 4,
   "metadata": {},
   "outputs": [
    {
     "name": "stderr",
     "output_type": "stream",
     "text": [
      "/home/oriol/venvs/exoplanet/lib/python3.6/site-packages/ipykernel_launcher.py:3: DtypeWarning: Columns (5) have mixed types.Specify dtype option on import or set low_memory=False.\n",
      "  This is separate from the ipykernel package so we can avoid doing imports until\n"
     ]
    }
   ],
   "source": [
    "catalog1 = sherlock.get_from_exoarchive(\n",
    "    local = True, \n",
    "    col_names = [\"pl_rade\", \"st_rad\"],\n",
    ")"
   ]
  },
  {
   "cell_type": "markdown",
   "metadata": {},
   "source": [
    "We can now check that for some objects the value is the same as the one in with `default_flag == 1`, but that is not always the case:"
   ]
  },
  {
   "cell_type": "code",
   "execution_count": 5,
   "metadata": {},
   "outputs": [
    {
     "name": "stdout",
     "output_type": "stream",
     "text": [
      "The value in the default parameter set is the one with\n",
      "lowest reported error for 20.0 % of the planets\n"
     ]
    }
   ],
   "source": [
    "pct = np.isclose(catalog.pl_rade, catalog1.pl_rade).mean() * 100\n",
    "print(f\"The value in the default parameter set is the one with\\n\\\n",
    "lowest reported error for {pct:.1f} % of the planets\")"
   ]
  },
  {
   "cell_type": "markdown",
   "metadata": {},
   "source": [
    "`sherlock` automatically stores the references used for all columns passed as `col_names` in a new column: `<col_name>_ref`:"
   ]
  },
  {
   "cell_type": "code",
   "execution_count": 6,
   "metadata": {},
   "outputs": [
    {
     "data": {
      "text/html": [
       "<div>\n",
       "<style scoped>\n",
       "    .dataframe tbody tr th:only-of-type {\n",
       "        vertical-align: middle;\n",
       "    }\n",
       "\n",
       "    .dataframe tbody tr th {\n",
       "        vertical-align: top;\n",
       "    }\n",
       "\n",
       "    .dataframe thead th {\n",
       "        text-align: right;\n",
       "    }\n",
       "</style>\n",
       "<table border=\"1\" class=\"dataframe\">\n",
       "  <thead>\n",
       "    <tr style=\"text-align: right;\">\n",
       "      <th></th>\n",
       "      <th>pl_rade_ref</th>\n",
       "      <th>pl_refname</th>\n",
       "    </tr>\n",
       "    <tr>\n",
       "      <th>pl_name</th>\n",
       "      <th></th>\n",
       "      <th></th>\n",
       "    </tr>\n",
       "  </thead>\n",
       "  <tbody>\n",
       "    <tr>\n",
       "      <th>55 Cnc e</th>\n",
       "      <td>&lt;a refstr=DEMORY_ET_AL__2011 href=https://ui.a...</td>\n",
       "      <td>&lt;a refstr=DEMORY_ET_AL__2016 href=https://ui.a...</td>\n",
       "    </tr>\n",
       "  </tbody>\n",
       "</table>\n",
       "</div>"
      ],
      "text/plain": [
       "                                                pl_rade_ref  \\\n",
       "pl_name                                                       \n",
       "55 Cnc e  <a refstr=DEMORY_ET_AL__2011 href=https://ui.a...   \n",
       "\n",
       "                                                 pl_refname  \n",
       "pl_name                                                      \n",
       "55 Cnc e  <a refstr=DEMORY_ET_AL__2016 href=https://ui.a...  "
      ]
     },
     "execution_count": 6,
     "metadata": {},
     "output_type": "execute_result"
    }
   ],
   "source": [
    "catalog1.loc[[\"55 Cnc e\"],[\"pl_rade_ref\", \"pl_refname\"]]"
   ]
  },
  {
   "cell_type": "markdown",
   "metadata": {},
   "source": [
    "## Querying\n",
    "Querying capabilities are possible thanks to [`pandas.DataFrame.query`](https://pandas.pydata.org/pandas-docs/stable/user_guide/indexing.html#indexing-query). Here we assume you are familiar with this method.\n",
    "\n",
    "`get_from_exoarchive` supports 2 types of queries: queries enforced **before** selecting the values with minimum error and queries enforced **after** selecting the values with minimum error. Let's dive in with one example:"
   ]
  },
  {
   "cell_type": "code",
   "execution_count": 7,
   "metadata": {},
   "outputs": [
    {
     "data": {
      "text/html": [
       "<div>\n",
       "<style scoped>\n",
       "    .dataframe tbody tr th:only-of-type {\n",
       "        vertical-align: middle;\n",
       "    }\n",
       "\n",
       "    .dataframe tbody tr th {\n",
       "        vertical-align: top;\n",
       "    }\n",
       "\n",
       "    .dataframe thead th {\n",
       "        text-align: right;\n",
       "    }\n",
       "</style>\n",
       "<table border=\"1\" class=\"dataframe\">\n",
       "  <thead>\n",
       "    <tr style=\"text-align: right;\">\n",
       "      <th></th>\n",
       "      <th>name</th>\n",
       "      <th>measure</th>\n",
       "      <th>error</th>\n",
       "      <th>type</th>\n",
       "    </tr>\n",
       "  </thead>\n",
       "  <tbody>\n",
       "    <tr>\n",
       "      <th>0</th>\n",
       "      <td>a</td>\n",
       "      <td>2.0</td>\n",
       "      <td>0.3</td>\n",
       "      <td>I</td>\n",
       "    </tr>\n",
       "    <tr>\n",
       "      <th>1</th>\n",
       "      <td>a</td>\n",
       "      <td>2.3</td>\n",
       "      <td>0.6</td>\n",
       "      <td>I</td>\n",
       "    </tr>\n",
       "    <tr>\n",
       "      <th>2</th>\n",
       "      <td>a</td>\n",
       "      <td>1.9</td>\n",
       "      <td>0.2</td>\n",
       "      <td>II</td>\n",
       "    </tr>\n",
       "    <tr>\n",
       "      <th>3</th>\n",
       "      <td>b</td>\n",
       "      <td>7.0</td>\n",
       "      <td>0.1</td>\n",
       "      <td>I</td>\n",
       "    </tr>\n",
       "    <tr>\n",
       "      <th>4</th>\n",
       "      <td>b</td>\n",
       "      <td>8.0</td>\n",
       "      <td>0.5</td>\n",
       "      <td>II</td>\n",
       "    </tr>\n",
       "  </tbody>\n",
       "</table>\n",
       "</div>"
      ],
      "text/plain": [
       "  name  measure  error type\n",
       "0    a      2.0    0.3    I\n",
       "1    a      2.3    0.6    I\n",
       "2    a      1.9    0.2   II\n",
       "3    b      7.0    0.1    I\n",
       "4    b      8.0    0.5   II"
      ]
     },
     "execution_count": 7,
     "metadata": {},
     "output_type": "execute_result"
    }
   ],
   "source": [
    "df = pd.DataFrame(\n",
    "    [\n",
    "        [\"a\", 2,   .3, \"I\"],\n",
    "        [\"a\", 2.3, .6, \"I\"],\n",
    "        [\"a\", 1.9, .2, \"II\"],\n",
    "        [\"b\", 7,   .1, \"I\"],\n",
    "        [\"b\", 8,   .5, \"II\"],\n",
    "    ],\n",
    "    columns=(\"name\", \"measure\", \"error\", \"type\")\n",
    ")\n",
    "df"
   ]
  },
  {
   "cell_type": "markdown",
   "metadata": {},
   "source": [
    "If we select the measures with lowest error for every object, we would end up with the 3d and 4th rows. Then, selecting only objects whose measure is of type `I` removes `a` from the dataset even though `a` has two measures of type `I` available. \n",
    "\n",
    "However, uf we first select only the measures of type `I` and then select the measure with lowest error, `a` would still be present in the final dataset.\n",
    "\n",
    "`get_from_exoarchive` has `pre_queries` and `post_query` to handle both cases."
   ]
  },
  {
   "cell_type": "markdown",
   "metadata": {},
   "source": [
    "### Using `pre_queries`\n",
    "`pre_queries` is thought to be applied on a per column basis, thus, restricting the mass measurement on a specific type of measure is done independently than restricting the radius measurement. One paper may report the radius with great accuracy while reporting a type of measure for the mass we are not interested in, discarding the radius measurement because the mass measurement is not of the desired type seems uncalled for.\n",
    "\n",
    "For this main reason, `pre_queries` takes a dictionary whose keys are the colum for which the query is to be applied and the value is the query itself (passed to `pandas.Dataframe.query`). Here is one example to select only the masses whose measure is available (discarding the `Mass*sin(i)` measurements:"
   ]
  },
  {
   "cell_type": "code",
   "execution_count": 8,
   "metadata": {},
   "outputs": [
    {
     "name": "stderr",
     "output_type": "stream",
     "text": [
      "/home/oriol/venvs/exoplanet/lib/python3.6/site-packages/ipykernel_launcher.py:4: DtypeWarning: Columns (5) have mixed types.Specify dtype option on import or set low_memory=False.\n",
      "  after removing the cwd from sys.path.\n"
     ]
    }
   ],
   "source": [
    "mass_catalog = sherlock.get_from_exoarchive(\n",
    "    local = True, \n",
    "    col_names = [\"pl_masse\"],\n",
    "    pre_queries={\"pl_masse\": \"pl_bmassprov == 'Mass'\"}\n",
    ")"
   ]
  },
  {
   "cell_type": "markdown",
   "metadata": {},
   "source": [
    "<div class=\"alert alert-warning\">\n",
    "\n",
    "Note that while the condition on `pl_bmassprov` is enforced, the values for `pl_bmassprov` are not updated. Thus, `pl_bmassprov` will no longer refer to the value of `pl_masse` in its same row but to the value in the default parameter set!\n",
    "\n",
    "</div>"
   ]
  },
  {
   "cell_type": "markdown",
   "metadata": {},
   "source": [
    "### Using `post_query`\n",
    "`post_query` is equivalent to `get_from_exoarchive().query(post_query)`, it is basically provided for convenience and readability. We can combine it with the two previous examples:"
   ]
  },
  {
   "cell_type": "code",
   "execution_count": 9,
   "metadata": {},
   "outputs": [
    {
     "name": "stderr",
     "output_type": "stream",
     "text": [
      "/home/oriol/venvs/exoplanet/lib/python3.6/site-packages/ipykernel_launcher.py:5: DtypeWarning: Columns (5) have mixed types.Specify dtype option on import or set low_memory=False.\n",
      "  \"\"\"\n"
     ]
    }
   ],
   "source": [
    "query_catalog = sherlock.get_from_exoarchive(\n",
    "    local = True, \n",
    "    col_names = [\"pl_rade\", \"st_rad\", \"pl_masse\"],\n",
    "    pre_queries={\"pl_masse\": \"pl_bmassprov == 'Mass'\"},\n",
    "    post_query=\"pl_rade < 4 & st_rad > .2\"\n",
    ")"
   ]
  },
  {
   "cell_type": "code",
   "execution_count": null,
   "metadata": {},
   "outputs": [],
   "source": []
  }
 ],
 "metadata": {
  "kernelspec": {
   "display_name": "Python 3",
   "language": "python",
   "name": "python3"
  },
  "language_info": {
   "codemirror_mode": {
    "name": "ipython",
    "version": 3
   },
   "file_extension": ".py",
   "mimetype": "text/x-python",
   "name": "python",
   "nbconvert_exporter": "python",
   "pygments_lexer": "ipython3",
   "version": "3.6.9"
  }
 },
 "nbformat": 4,
 "nbformat_minor": 2
}
