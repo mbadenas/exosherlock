{
 "cells": [
  {
   "cell_type": "code",
   "execution_count": 1,
   "metadata": {},
   "outputs": [],
   "source": [
    "%load_ext autoreload\n",
    "\n",
    "from time import time\n",
    "import pandas as pd\n",
    "import numpy as np\n",
    "\n",
    "from exosherlock import load_catalog\n",
    "from exosherlock._dtypes import DTYPES_PS"
   ]
  },
  {
   "cell_type": "code",
   "execution_count": 2,
   "metadata": {},
   "outputs": [
    {
     "name": "stdout",
     "output_type": "stream",
     "text": [
      "0.9 s\n"
     ]
    }
   ],
   "source": [
    "start = time()\n",
    "df_ps_local = load_catalog(\"exosherlock/data/PS_05_2020.csv\")  # this is not the complete catalog\n",
    "print(f\"{time() - start:.1f} s\")"
   ]
  },
  {
   "cell_type": "code",
   "execution_count": 3,
   "metadata": {},
   "outputs": [
    {
     "name": "stdout",
     "output_type": "stream",
     "text": [
      "1.5 s\n"
     ]
    }
   ],
   "source": [
    "start = time()\n",
    "load_catalog(\"exosherlock/data/PS_06_2020.csv\")  # complete catalog\n",
    "print(f\"{time() - start:.1f} s\")"
   ]
  },
  {
   "cell_type": "code",
   "execution_count": 3,
   "metadata": {},
   "outputs": [
    {
     "name": "stdout",
     "output_type": "stream",
     "text": [
      "<class 'pandas.core.frame.DataFrame'>\n",
      "RangeIndex: 26329 entries, 0 to 26328\n",
      "Columns: 296 entries, rowid to st_nspec\n",
      "dtypes: Int64(14), float64(252), int64(5), string(25)\n",
      "memory usage: 59.8 MB\n"
     ]
    }
   ],
   "source": [
    "df_ps_local.info()"
   ]
  },
  {
   "cell_type": "code",
   "execution_count": 4,
   "metadata": {},
   "outputs": [
    {
     "name": "stdout",
     "output_type": "stream",
     "text": [
      "11.2 s\n"
     ]
    },
    {
     "name": "stderr",
     "output_type": "stream",
     "text": [
      "/home/oriol/venvs/exoplanet/lib/python3.6/site-packages/IPython/core/interactiveshell.py:3331: DtypeWarning: Columns (218,246) have mixed types.Specify dtype option on import or set low_memory=False.\n",
      "  exec(code_obj, self.user_global_ns, self.user_ns)\n"
     ]
    }
   ],
   "source": [
    "start = time()\n",
    "df_confirmed = load_catalog(\"exoplanets\")\n",
    "print(f\"{time() - start:.1f} s\")"
   ]
  },
  {
   "cell_type": "code",
   "execution_count": 5,
   "metadata": {},
   "outputs": [
    {
     "name": "stdout",
     "output_type": "stream",
     "text": [
      "<class 'pandas.core.frame.DataFrame'>\n",
      "RangeIndex: 4164 entries, 0 to 4163\n",
      "Columns: 414 entries, ra to pl_controvflag\n",
      "dtypes: Int64(4), float64(325), int64(61), object(14), string(10)\n",
      "memory usage: 13.2+ MB\n"
     ]
    }
   ],
   "source": [
    "df_confirmed.info()"
   ]
  },
  {
   "cell_type": "code",
   "execution_count": 6,
   "metadata": {},
   "outputs": [
    {
     "name": "stdout",
     "output_type": "stream",
     "text": [
      "Created TAP+ (v1.2.1) - Connection:\n",
      "\tHost: exoplanetarchive.ipac.caltech.edu\n",
      "\tUse HTTPS: True\n",
      "\tPort: 443\n",
      "\tSSL Port: 443\n",
      "INFO: Query finished. [astroquery.utils.tap.core]\n"
     ]
    },
    {
     "name": "stderr",
     "output_type": "stream",
     "text": [
      "/home/oriol/Public/exosherlock/exosherlock/database.py:87: TableReplaceWarning: converted column 'pl_orbperlim' from integer to float\n",
      "  return _download_ps_table()\n",
      "/home/oriol/Public/exosherlock/exosherlock/database.py:87: TableReplaceWarning: converted column 'pl_orblperlim' from integer to float\n",
      "  return _download_ps_table()\n",
      "/home/oriol/Public/exosherlock/exosherlock/database.py:87: TableReplaceWarning: converted column 'pl_orbsmaxlim' from integer to float\n",
      "  return _download_ps_table()\n",
      "/home/oriol/Public/exosherlock/exosherlock/database.py:87: TableReplaceWarning: converted column 'pl_orbincllim' from integer to float\n",
      "  return _download_ps_table()\n",
      "/home/oriol/Public/exosherlock/exosherlock/database.py:87: TableReplaceWarning: converted column 'pl_orbtperlim' from integer to float\n",
      "  return _download_ps_table()\n",
      "/home/oriol/Public/exosherlock/exosherlock/database.py:87: TableReplaceWarning: converted column 'pl_orbeccenlim' from integer to float\n",
      "  return _download_ps_table()\n",
      "/home/oriol/Public/exosherlock/exosherlock/database.py:87: TableReplaceWarning: converted column 'pl_eqtlim' from integer to float\n",
      "  return _download_ps_table()\n",
      "/home/oriol/Public/exosherlock/exosherlock/database.py:87: TableReplaceWarning: converted column 'pl_occdeplim' from integer to float\n",
      "  return _download_ps_table()\n",
      "/home/oriol/Public/exosherlock/exosherlock/database.py:87: TableReplaceWarning: converted column 'pl_insollim' from integer to float\n",
      "  return _download_ps_table()\n",
      "/home/oriol/Public/exosherlock/exosherlock/database.py:87: TableReplaceWarning: converted column 'pl_denslim' from integer to float\n",
      "  return _download_ps_table()\n",
      "/home/oriol/Public/exosherlock/exosherlock/database.py:87: TableReplaceWarning: converted column 'pl_trandeplim' from integer to float\n",
      "  return _download_ps_table()\n",
      "/home/oriol/Public/exosherlock/exosherlock/database.py:87: TableReplaceWarning: converted column 'pl_tranmidlim' from integer to float\n",
      "  return _download_ps_table()\n",
      "/home/oriol/Public/exosherlock/exosherlock/database.py:87: TableReplaceWarning: converted column 'pl_trandurdlim' from integer to float\n",
      "  return _download_ps_table()\n",
      "/home/oriol/Public/exosherlock/exosherlock/database.py:87: TableReplaceWarning: converted column 'sy_plxlim' from integer to float\n",
      "  return _download_ps_table()\n",
      "/home/oriol/Public/exosherlock/exosherlock/database.py:87: TableReplaceWarning: converted column 'sy_kepmaglim' from integer to float\n",
      "  return _download_ps_table()\n",
      "/home/oriol/Public/exosherlock/exosherlock/database.py:87: TableReplaceWarning: converted column 'st_rotplim' from integer to float\n",
      "  return _download_ps_table()\n",
      "/home/oriol/Public/exosherlock/exosherlock/database.py:87: TableReplaceWarning: converted column 'pl_projobliqlim' from integer to float\n",
      "  return _download_ps_table()\n",
      "/home/oriol/Public/exosherlock/exosherlock/database.py:87: TableReplaceWarning: converted column 'htm20' from integer to float\n",
      "  return _download_ps_table()\n",
      "/home/oriol/Public/exosherlock/exosherlock/database.py:87: TableReplaceWarning: converted column 'pl_rvamplim' from integer to float\n",
      "  return _download_ps_table()\n",
      "/home/oriol/Public/exosherlock/exosherlock/database.py:87: TableReplaceWarning: converted column 'pl_radjlim' from integer to float\n",
      "  return _download_ps_table()\n",
      "/home/oriol/Public/exosherlock/exosherlock/database.py:87: TableReplaceWarning: converted column 'pl_radelim' from integer to float\n",
      "  return _download_ps_table()\n",
      "/home/oriol/Public/exosherlock/exosherlock/database.py:87: TableReplaceWarning: converted column 'pl_ratrorlim' from integer to float\n",
      "  return _download_ps_table()\n",
      "/home/oriol/Public/exosherlock/exosherlock/database.py:87: TableReplaceWarning: converted column 'pl_trueobliqlim' from integer to float\n",
      "  return _download_ps_table()\n",
      "/home/oriol/Public/exosherlock/exosherlock/database.py:87: TableReplaceWarning: converted column 'st_log_rhklim' from integer to float\n",
      "  return _download_ps_table()\n",
      "/home/oriol/Public/exosherlock/exosherlock/database.py:87: TableReplaceWarning: converted column 'st_metn' from integer to float\n",
      "  return _download_ps_table()\n",
      "/home/oriol/Public/exosherlock/exosherlock/database.py:87: TableReplaceWarning: converted column 'pl_ratdorlim' from integer to float\n",
      "  return _download_ps_table()\n",
      "/home/oriol/Public/exosherlock/exosherlock/database.py:87: TableReplaceWarning: converted column 'pl_impparlim' from integer to float\n",
      "  return _download_ps_table()\n",
      "/home/oriol/Public/exosherlock/exosherlock/database.py:87: TableReplaceWarning: converted column 'pl_cmassjlim' from integer to float\n",
      "  return _download_ps_table()\n",
      "/home/oriol/Public/exosherlock/exosherlock/database.py:87: TableReplaceWarning: converted column 'pl_cmasselim' from integer to float\n",
      "  return _download_ps_table()\n",
      "/home/oriol/Public/exosherlock/exosherlock/database.py:87: TableReplaceWarning: converted column 'pl_massjlim' from integer to float\n",
      "  return _download_ps_table()\n",
      "/home/oriol/Public/exosherlock/exosherlock/database.py:87: TableReplaceWarning: converted column 'pl_masselim' from integer to float\n",
      "  return _download_ps_table()\n",
      "/home/oriol/Public/exosherlock/exosherlock/database.py:87: TableReplaceWarning: converted column 'pl_bmassjlim' from integer to float\n",
      "  return _download_ps_table()\n",
      "/home/oriol/Public/exosherlock/exosherlock/database.py:87: TableReplaceWarning: converted column 'pl_bmasselim' from integer to float\n",
      "  return _download_ps_table()\n",
      "/home/oriol/Public/exosherlock/exosherlock/database.py:87: TableReplaceWarning: converted column 'pl_msinijlim' from integer to float\n",
      "  return _download_ps_table()\n",
      "/home/oriol/Public/exosherlock/exosherlock/database.py:87: TableReplaceWarning: converted column 'pl_msinielim' from integer to float\n",
      "  return _download_ps_table()\n",
      "/home/oriol/Public/exosherlock/exosherlock/database.py:87: TableReplaceWarning: converted column 'st_tefflim' from integer to float\n",
      "  return _download_ps_table()\n",
      "/home/oriol/Public/exosherlock/exosherlock/database.py:87: TableReplaceWarning: converted column 'st_metlim' from integer to float\n",
      "  return _download_ps_table()\n",
      "/home/oriol/Public/exosherlock/exosherlock/database.py:87: TableReplaceWarning: converted column 'st_radvlim' from integer to float\n",
      "  return _download_ps_table()\n",
      "/home/oriol/Public/exosherlock/exosherlock/database.py:87: TableReplaceWarning: converted column 'st_vsinlim' from integer to float\n",
      "  return _download_ps_table()\n",
      "/home/oriol/Public/exosherlock/exosherlock/database.py:87: TableReplaceWarning: converted column 'st_lumlim' from integer to float\n",
      "  return _download_ps_table()\n",
      "/home/oriol/Public/exosherlock/exosherlock/database.py:87: TableReplaceWarning: converted column 'st_logglim' from integer to float\n",
      "  return _download_ps_table()\n",
      "/home/oriol/Public/exosherlock/exosherlock/database.py:87: TableReplaceWarning: converted column 'st_agelim' from integer to float\n",
      "  return _download_ps_table()\n",
      "/home/oriol/Public/exosherlock/exosherlock/database.py:87: TableReplaceWarning: converted column 'st_masslim' from integer to float\n",
      "  return _download_ps_table()\n",
      "/home/oriol/Public/exosherlock/exosherlock/database.py:87: TableReplaceWarning: converted column 'st_denslim' from integer to float\n",
      "  return _download_ps_table()\n",
      "/home/oriol/Public/exosherlock/exosherlock/database.py:87: TableReplaceWarning: converted column 'st_radlim' from integer to float\n",
      "  return _download_ps_table()\n",
      "/home/oriol/Public/exosherlock/exosherlock/database.py:87: TableReplaceWarning: converted column 'sy_distlim' from integer to float\n",
      "  return _download_ps_table()\n"
     ]
    },
    {
     "name": "stdout",
     "output_type": "stream",
     "text": [
      "22.9 min\n"
     ]
    }
   ],
   "source": [
    "start = time()\n",
    "df_ps_votable = load_catalog(\"ps\")\n",
    "print(f\"{(time() - start)/60:.1f} min\")"
   ]
  },
  {
   "cell_type": "code",
   "execution_count": 7,
   "metadata": {},
   "outputs": [
    {
     "name": "stdout",
     "output_type": "stream",
     "text": [
      "<class 'pandas.core.frame.DataFrame'>\n",
      "RangeIndex: 26355 entries, 0 to 26354\n",
      "Columns: 376 entries, pl_name to sy_kmagerr2\n",
      "dtypes: float64(259), int32(21), object(96)\n",
      "memory usage: 73.5+ MB\n"
     ]
    }
   ],
   "source": [
    "df_ps_votable.info()"
   ]
  },
  {
   "cell_type": "code",
   "execution_count": 118,
   "metadata": {},
   "outputs": [],
   "source": [
    "%autoreload"
   ]
  },
  {
   "cell_type": "code",
   "execution_count": 119,
   "metadata": {},
   "outputs": [],
   "source": [
    "from exosherlock._dtypes import DTYPES_PS\n",
    "from exosherlock import load_catalog"
   ]
  },
  {
   "cell_type": "code",
   "execution_count": 94,
   "metadata": {},
   "outputs": [],
   "source": [
    "# decode\n",
    "parse_dtypes = {\"string\": pd.StringDtype()}\n",
    "def decode_convert(col):\n",
    "    dtype_ = DTYPES_PS.get(col.name, None)\n",
    "    dtype_ = parse_dtypes.get(dtype_, dtype_)\n",
    "    if col.dtype is dtype_:\n",
    "        return col\n",
    "    if col.name in DTYPES_PS:\n",
    "        try:\n",
    "            col = col.str.decode(\"utf-8\").astype(dtype_)\n",
    "        except AttributeError:\n",
    "            col = col.astype(dtype_)\n",
    "        return col\n",
    "    try:\n",
    "        col = col.str.decode(\"utf-8\")\n",
    "    except AttributeError:\n",
    "        col = col\n",
    "    return col"
   ]
  },
  {
   "cell_type": "code",
   "execution_count": 86,
   "metadata": {},
   "outputs": [],
   "source": [
    "df_ps_votable = df_ps_votable.apply(decode_convert, axis=\"rows\")"
   ]
  },
  {
   "cell_type": "code",
   "execution_count": 87,
   "metadata": {},
   "outputs": [],
   "source": [
    "df_ps_votable.to_csv(\"prova.csv\", index=False)"
   ]
  },
  {
   "cell_type": "code",
   "execution_count": 120,
   "metadata": {},
   "outputs": [
    {
     "name": "stdout",
     "output_type": "stream",
     "text": [
      "1.4 s\n"
     ]
    }
   ],
   "source": [
    "start = time()\n",
    "df_ps_local2 = load_catalog(\"prova.csv\", dtype=DTYPES_PS)\n",
    "print(f\"{time() - start:.1f} s\")"
   ]
  },
  {
   "cell_type": "code",
   "execution_count": 123,
   "metadata": {},
   "outputs": [],
   "source": [
    "df_ps_local2.to_csv(\"exosherlock/data/PS_06_2020.csv\", index=False)"
   ]
  },
  {
   "cell_type": "code",
   "execution_count": null,
   "metadata": {},
   "outputs": [],
   "source": []
  }
 ],
 "metadata": {
  "kernelspec": {
   "display_name": "Python 3",
   "language": "python",
   "name": "python3"
  },
  "language_info": {
   "codemirror_mode": {
    "name": "ipython",
    "version": 3
   },
   "file_extension": ".py",
   "mimetype": "text/x-python",
   "name": "python",
   "nbconvert_exporter": "python",
   "pygments_lexer": "ipython3",
   "version": "3.6.9"
  }
 },
 "nbformat": 4,
 "nbformat_minor": 2
}
